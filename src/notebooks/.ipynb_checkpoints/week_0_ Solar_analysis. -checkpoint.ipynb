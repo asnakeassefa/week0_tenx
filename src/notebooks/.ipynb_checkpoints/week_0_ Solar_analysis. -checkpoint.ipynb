{
 "cells": [
  {
   "cell_type": "code",
   "execution_count": 37,
   "id": "63d2a8d4",
   "metadata": {},
   "outputs": [
    {
     "ename": "ModuleNotFoundError",
     "evalue": "No module named 'matplotlib'",
     "output_type": "error",
     "traceback": [
      "\u001b[0;31m---------------------------------------------------------------------------\u001b[0m",
      "\u001b[0;31mModuleNotFoundError\u001b[0m                       Traceback (most recent call last)",
      "Cell \u001b[0;32mIn[37], line 4\u001b[0m\n\u001b[1;32m      2\u001b[0m \u001b[38;5;28;01mimport\u001b[39;00m \u001b[38;5;21;01mnumpy\u001b[39;00m \u001b[38;5;28;01mas\u001b[39;00m \u001b[38;5;21;01mnp\u001b[39;00m\n\u001b[1;32m      3\u001b[0m \u001b[38;5;66;03m# from scipy import stats\u001b[39;00m\n\u001b[0;32m----> 4\u001b[0m \u001b[38;5;28;01mimport\u001b[39;00m \u001b[38;5;21;01mmatplotlib\u001b[39;00m\u001b[38;5;21;01m.\u001b[39;00m\u001b[38;5;21;01mpyplot\u001b[39;00m \u001b[38;5;28;01mas\u001b[39;00m \u001b[38;5;21;01mplt\u001b[39;00m\n",
      "\u001b[0;31mModuleNotFoundError\u001b[0m: No module named 'matplotlib'"
     ]
    }
   ],
   "source": [
    "import pandas as pd\n",
    "import numpy as np\n",
    "from scipy import stats\n",
    "import matplotlib.pyplot as plt\n"
   ]
  },
  {
   "cell_type": "code",
   "execution_count": 10,
   "id": "f1a26feb",
   "metadata": {},
   "outputs": [],
   "source": [
    "def clean_data(data):\n",
    "    data = data.replace([np.inf, -np.inf], np.nan)\n",
    "\n",
    "    data.fillna(method='ffill', inplace=True)\n",
    "    # change the datatype Time stapme to datetime\n",
    "    data = data[(data['GHI'] >= 0) & (data['DNI'] >= 0) & (data['DHI'] >= 0)]\n",
    "\n",
    "    if 'Timestamp' in data.columns:\n",
    "        data['Timestamp'] = pd.to_datetime(data['Timestamp'], errors='coerce')\n",
    "        most_common_date = (\n",
    "            data['Timestamp'].mode()[0] if not data['Timestamp'].mode().empty else pd.Timestamp.now()\n",
    "        )\n",
    "        data['Timestamp'] = data['Timestamp'].fillna(most_common_date)\n",
    "        data.set_index('Timestamp', drop=False, inplace=True)\n",
    "    \n",
    "    data.drop_duplicates(inplace=True)\n",
    "    \n",
    "    return data\n"
   ]
  },
  {
   "cell_type": "code",
   "execution_count": 20,
   "id": "2dcf6272",
   "metadata": {},
   "outputs": [],
   "source": [
    "def summery(data):\n",
    "    return data.describe(include='all')"
   ]
  },
  {
   "cell_type": "code",
   "execution_count": 32,
   "id": "a3754cbb",
   "metadata": {},
   "outputs": [],
   "source": [
    "def data_quality_check(data):\n",
    "    print(data.isnull().sum())\n",
    "    negative_values = data[(data['GHI'] < 0) | (data['DNI'] < 0) | (data['DHI'] < 0)]\n",
    "    # print(negative_values)\n",
    "    return data"
   ]
  },
  {
   "cell_type": "code",
   "execution_count": 33,
   "id": "90d56e10",
   "metadata": {},
   "outputs": [
    {
     "name": "stdout",
     "output_type": "stream",
     "text": [
      "Timestamp             0\n",
      "GHI                   0\n",
      "DNI                   0\n",
      "DHI                   0\n",
      "ModA                  0\n",
      "ModB                  0\n",
      "Tamb                  0\n",
      "RH                    0\n",
      "WS                    0\n",
      "WSgust                0\n",
      "WSstdev               0\n",
      "WD                    0\n",
      "WDstdev               0\n",
      "BP                    0\n",
      "Cleaning              0\n",
      "Precipitation         0\n",
      "TModA                 0\n",
      "TModB                 0\n",
      "Comments         246878\n",
      "dtype: int64\n",
      "                              Timestamp   GHI  DNI   DHI  ModA  ModB  Tamb  \\\n",
      "Timestamp                                                                    \n",
      "2021-08-09 06:54:00 2021-08-09 06:54:00  16.7  0.0  16.5  16.1  16.3  24.2   \n",
      "2021-08-09 06:55:00 2021-08-09 06:55:00  18.2  0.1  18.0  17.4  17.6  24.2   \n",
      "2021-08-09 06:56:00 2021-08-09 06:56:00  19.7  0.3  19.5  18.7  18.9  24.2   \n",
      "2021-08-09 06:57:00 2021-08-09 06:57:00  21.1  0.6  20.9  19.9  20.1  24.2   \n",
      "2021-08-09 06:58:00 2021-08-09 06:58:00  22.5  1.1  22.2  21.1  21.3  24.2   \n",
      "...                                 ...   ...  ...   ...   ...   ...   ...   \n",
      "2022-08-08 16:39:00 2022-08-08 16:39:00   4.9  0.0   5.0   5.9   5.8  22.1   \n",
      "2022-08-08 16:41:00 2022-08-08 16:41:00   4.8  0.0   4.9   5.8   5.7  22.1   \n",
      "2022-08-08 16:47:00 2022-08-08 16:47:00   4.7  0.1   4.7   5.7   5.5  22.2   \n",
      "2022-08-08 16:48:00 2022-08-08 16:48:00   4.7  0.0   4.8   5.6   5.5  22.2   \n",
      "2022-08-08 16:51:00 2022-08-08 16:51:00   4.6  0.0   4.7   5.5   5.4  22.3   \n",
      "\n",
      "                       RH   WS  WSgust  WSstdev     WD  WDstdev   BP  \\\n",
      "Timestamp                                                              \n",
      "2021-08-09 06:54:00  98.8  0.0     0.0      0.0    0.0      0.0  997   \n",
      "2021-08-09 06:55:00  98.8  0.0     0.0      0.0    0.0      0.0  997   \n",
      "2021-08-09 06:56:00  98.8  0.0     0.0      0.0    0.0      0.0  997   \n",
      "2021-08-09 06:57:00  98.9  0.0     0.0      0.0    0.0      0.0  997   \n",
      "2021-08-09 06:58:00  98.9  0.0     0.0      0.0    0.0      0.0  997   \n",
      "...                   ...  ...     ...      ...    ...      ...  ...   \n",
      "2022-08-08 16:39:00  99.2  5.2     6.4      0.7  153.4      8.9  995   \n",
      "2022-08-08 16:41:00  99.2  5.6     7.2      0.9  153.1      9.4  994   \n",
      "2022-08-08 16:47:00  99.2  5.2     5.9      0.5  147.7      9.0  994   \n",
      "2022-08-08 16:48:00  99.3  4.7     6.2      0.7  145.4      9.8  994   \n",
      "2022-08-08 16:51:00  99.2  5.1     6.4      0.7  150.6      9.8  994   \n",
      "\n",
      "                     Cleaning  Precipitation  TModA  TModB  Comments  \n",
      "Timestamp                                                             \n",
      "2021-08-09 06:54:00         0            0.0   24.2   23.7       NaN  \n",
      "2021-08-09 06:55:00         0            0.0   24.3   23.8       NaN  \n",
      "2021-08-09 06:56:00         0            0.0   24.3   23.9       NaN  \n",
      "2021-08-09 06:57:00         0            0.0   24.4   23.9       NaN  \n",
      "2021-08-09 06:58:00         0            0.0   24.5   24.0       NaN  \n",
      "...                       ...            ...    ...    ...       ...  \n",
      "2022-08-08 16:39:00         0            0.0   22.8   22.1       NaN  \n",
      "2022-08-08 16:41:00         0            0.0   22.8   22.1       NaN  \n",
      "2022-08-08 16:47:00         0            0.0   22.9   22.2       NaN  \n",
      "2022-08-08 16:48:00         0            0.0   22.9   22.2       NaN  \n",
      "2022-08-08 16:51:00         0            0.0   23.0   22.3       NaN  \n",
      "\n",
      "[246878 rows x 19 columns]\n"
     ]
    },
    {
     "name": "stderr",
     "output_type": "stream",
     "text": [
      "/var/folders/b3/zdl2xxh53jgc4hjrq6hk1p9c0000gn/T/ipykernel_39731/197367984.py:4: FutureWarning: DataFrame.fillna with 'method' is deprecated and will raise in a future version. Use obj.ffill() or obj.bfill() instead.\n",
      "  data.fillna(method='ffill', inplace=True)\n"
     ]
    }
   ],
   "source": [
    "data = pd.read_csv('../../data/benin-malanville.csv')\n",
    "data = clean_data(data)\n",
    "# print(summery(data))\n",
    "print(data_quality_check(data))\n",
    "\n"
   ]
  }
 ],
 "metadata": {
  "kernelspec": {
   "display_name": "Python 3 (ipykernel)",
   "language": "python",
   "name": "python3"
  },
  "language_info": {
   "codemirror_mode": {
    "name": "ipython",
    "version": 3
   },
   "file_extension": ".py",
   "mimetype": "text/x-python",
   "name": "python",
   "nbconvert_exporter": "python",
   "pygments_lexer": "ipython3",
   "version": "3.9.6"
  }
 },
 "nbformat": 4,
 "nbformat_minor": 5
}
